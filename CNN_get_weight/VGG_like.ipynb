{
  "nbformat": 4,
  "nbformat_minor": 0,
  "metadata": {
    "colab": {
      "provenance": [],
      "authorship_tag": "ABX9TyOdwVCetknxfRzOS/sBOnvx",
      "include_colab_link": true
    },
    "kernelspec": {
      "name": "python3",
      "display_name": "Python 3"
    },
    "language_info": {
      "name": "python"
    },
    "accelerator": "GPU"
  },
  "cells": [
    {
      "cell_type": "markdown",
      "metadata": {
        "id": "view-in-github",
        "colab_type": "text"
      },
      "source": [
        "<a href=\"https://colab.research.google.com/github/MACLab-hub/NativeC_NN/blob/master/CNN_get_weight/VGG_like.ipynb\" target=\"_parent\"><img src=\"https://colab.research.google.com/assets/colab-badge.svg\" alt=\"Open In Colab\"/></a>"
      ]
    },
    {
      "cell_type": "code",
      "execution_count": null,
      "metadata": {
        "colab": {
          "base_uri": "https://localhost:8080/",
          "height": 35
        },
        "id": "hjGPZS_wP3Ve",
        "outputId": "a08bcd0b-3320-4aa7-ea29-4d4781d621dd"
      },
      "outputs": [
        {
          "output_type": "execute_result",
          "data": {
            "text/plain": [
              "'2.9.2'"
            ],
            "application/vnd.google.colaboratory.intrinsic+json": {
              "type": "string"
            }
          },
          "metadata": {},
          "execution_count": 1
        }
      ],
      "source": [
        "import tensorflow as tf\n",
        "import pandas as pd\n",
        "import seaborn as sns  # to plot images and statical version of data\n",
        "import numpy as np\n",
        "import matplotlib.pyplot as plt\n",
        "import random\n",
        "import os\n",
        "import PIL\n",
        "import sys\n",
        "import pickle\n",
        "from tensorflow import keras\n",
        "from keras import datasets, layers, models\n",
        "\n",
        "tf.__version__"
      ]
    },
    {
      "cell_type": "code",
      "source": [
        "(X_train, y_train) , (X_test, y_test) = datasets.cifar10.load_data()"
      ],
      "metadata": {
        "colab": {
          "base_uri": "https://localhost:8080/"
        },
        "id": "Mgc__NnBNI2B",
        "outputId": "e9cb08c2-56af-4e81-edd3-8f399ebb8d02"
      },
      "execution_count": null,
      "outputs": [
        {
          "output_type": "stream",
          "name": "stdout",
          "text": [
            "Downloading data from https://www.cs.toronto.edu/~kriz/cifar-10-python.tar.gz\n",
            "170500096/170498071 [==============================] - 13s 0us/step\n",
            "170508288/170498071 [==============================] - 13s 0us/step\n"
          ]
        }
      ]
    },
    {
      "cell_type": "code",
      "source": [
        "print(X_train.shape, X_test.shape)"
      ],
      "metadata": {
        "colab": {
          "base_uri": "https://localhost:8080/"
        },
        "id": "uq-9IwQZNLX2",
        "outputId": "054e3bd0-a476-4d60-dc2a-79835c3459bc"
      },
      "execution_count": null,
      "outputs": [
        {
          "output_type": "stream",
          "name": "stdout",
          "text": [
            "(50000, 32, 32, 3) (10000, 32, 32, 3)\n"
          ]
        }
      ]
    },
    {
      "cell_type": "code",
      "source": [
        "# Coverting the images to gray image (32X32X1) from colored format (32X32X3)\n",
        "X_train_gray = np.sum(X_train/3, axis=3, keepdims = True)\n",
        "X_test_gray = np.sum(X_test/3, axis=3, keepdims = True)"
      ],
      "metadata": {
        "id": "D-MrR5wANNtO"
      },
      "execution_count": null,
      "outputs": []
    },
    {
      "cell_type": "code",
      "source": [
        "X_train_gray_norm = (X_train_gray - 128) / 128\n",
        "X_test_gray_norm = (X_test_gray - 128) / 128"
      ],
      "metadata": {
        "id": "uv5nnhjzNTek"
      },
      "execution_count": null,
      "outputs": []
    },
    {
      "cell_type": "code",
      "source": [
        "print(X_train_gray_norm.shape, X_test_gray_norm.shape)"
      ],
      "metadata": {
        "colab": {
          "base_uri": "https://localhost:8080/"
        },
        "id": "5jN9pv0mNXU0",
        "outputId": "436b9a9e-0600-4a72-eeea-cecc03b961e1"
      },
      "execution_count": null,
      "outputs": [
        {
          "output_type": "stream",
          "name": "stdout",
          "text": [
            "(50000, 32, 32, 1) (10000, 32, 32, 1)\n"
          ]
        }
      ]
    },
    {
      "cell_type": "code",
      "source": [
        "VGG_like = models.Sequential()\n",
        "\n",
        "# 128C3 - 128C3 - P2\n",
        "VGG_like.add(layers.Conv2D(128, (3, 3), padding='same', kernel_initializer='he_normal', input_shape= (32,32,1)))\n",
        "VGG_like.add(layers.BatchNormalization())\n",
        "VGG_like.add(layers.Activation('relu'))\n",
        "VGG_like.add(layers.Conv2D(128, (3, 3), padding='same', kernel_initializer='he_normal'))\n",
        "VGG_like.add(layers.MaxPool2D())\n",
        "VGG_like.add(layers.BatchNormalization())\n",
        "VGG_like.add(layers.Activation('relu'))\n",
        "\n",
        "# 256C3 - 256C3 - P2\n",
        "VGG_like.add(layers.Conv2D(256, (3, 3), padding='same', kernel_initializer='he_normal'))\n",
        "VGG_like.add(layers.BatchNormalization())\n",
        "VGG_like.add(layers.Activation('relu'))\n",
        "VGG_like.add(layers.Conv2D(256, (3, 3), padding='same', kernel_initializer='he_normal'))\n",
        "VGG_like.add(layers.MaxPool2D())\n",
        "VGG_like.add(layers.BatchNormalization())\n",
        "VGG_like.add(layers.Activation('relu'))\n",
        "\n",
        "# 512C3 - 512C3 - P2\n",
        "VGG_like.add(layers.Conv2D(512, (3, 3), padding='same', kernel_initializer='he_normal'))\n",
        "VGG_like.add(layers.BatchNormalization())\n",
        "VGG_like.add(layers.Activation('relu'))\n",
        "VGG_like.add(layers.Conv2D(512, (3, 3), padding='same', kernel_initializer='he_normal'))\n",
        "VGG_like.add(layers.MaxPool2D())\n",
        "VGG_like.add(layers.BatchNormalization())\n",
        "VGG_like.add(layers.Activation('relu'))\n",
        "\n",
        "# 1024FP - 1024FP - 10FP\n",
        "VGG_like.add(layers.Flatten())\n",
        "VGG_like.add(layers.Dense(1024, kernel_initializer='he_normal'))\n",
        "VGG_like.add(layers.BatchNormalization())\n",
        "VGG_like.add(layers.Activation('relu'))\n",
        "VGG_like.add(layers.Dense(1024, kernel_initializer='he_normal'))\n",
        "VGG_like.add(layers.BatchNormalization())\n",
        "VGG_like.add(layers.Activation('relu'))\n",
        "VGG_like.add(layers.Dense(10, kernel_initializer='he_normal'))\n",
        "VGG_like.add(layers.BatchNormalization())\n",
        "VGG_like.add(layers.Activation('softmax'))\n",
        "\n",
        "VGG_like.summary()"
      ],
      "metadata": {
        "colab": {
          "base_uri": "https://localhost:8080/"
        },
        "id": "BPcFhmE9QfHl",
        "outputId": "9fa041e1-c5c5-49bf-d5af-a0460640ff50"
      },
      "execution_count": null,
      "outputs": [
        {
          "output_type": "stream",
          "name": "stdout",
          "text": [
            "Model: \"sequential\"\n",
            "_________________________________________________________________\n",
            " Layer (type)                Output Shape              Param #   \n",
            "=================================================================\n",
            " conv2d (Conv2D)             (None, 32, 32, 128)       1280      \n",
            "                                                                 \n",
            " batch_normalization (BatchN  (None, 32, 32, 128)      512       \n",
            " ormalization)                                                   \n",
            "                                                                 \n",
            " activation (Activation)     (None, 32, 32, 128)       0         \n",
            "                                                                 \n",
            " conv2d_1 (Conv2D)           (None, 32, 32, 128)       147584    \n",
            "                                                                 \n",
            " max_pooling2d (MaxPooling2D  (None, 16, 16, 128)      0         \n",
            " )                                                               \n",
            "                                                                 \n",
            " batch_normalization_1 (Batc  (None, 16, 16, 128)      512       \n",
            " hNormalization)                                                 \n",
            "                                                                 \n",
            " activation_1 (Activation)   (None, 16, 16, 128)       0         \n",
            "                                                                 \n",
            " conv2d_2 (Conv2D)           (None, 16, 16, 256)       295168    \n",
            "                                                                 \n",
            " batch_normalization_2 (Batc  (None, 16, 16, 256)      1024      \n",
            " hNormalization)                                                 \n",
            "                                                                 \n",
            " activation_2 (Activation)   (None, 16, 16, 256)       0         \n",
            "                                                                 \n",
            " conv2d_3 (Conv2D)           (None, 16, 16, 256)       590080    \n",
            "                                                                 \n",
            " max_pooling2d_1 (MaxPooling  (None, 8, 8, 256)        0         \n",
            " 2D)                                                             \n",
            "                                                                 \n",
            " batch_normalization_3 (Batc  (None, 8, 8, 256)        1024      \n",
            " hNormalization)                                                 \n",
            "                                                                 \n",
            " activation_3 (Activation)   (None, 8, 8, 256)         0         \n",
            "                                                                 \n",
            " conv2d_4 (Conv2D)           (None, 8, 8, 512)         1180160   \n",
            "                                                                 \n",
            " batch_normalization_4 (Batc  (None, 8, 8, 512)        2048      \n",
            " hNormalization)                                                 \n",
            "                                                                 \n",
            " activation_4 (Activation)   (None, 8, 8, 512)         0         \n",
            "                                                                 \n",
            " conv2d_5 (Conv2D)           (None, 8, 8, 512)         2359808   \n",
            "                                                                 \n",
            " max_pooling2d_2 (MaxPooling  (None, 4, 4, 512)        0         \n",
            " 2D)                                                             \n",
            "                                                                 \n",
            " batch_normalization_5 (Batc  (None, 4, 4, 512)        2048      \n",
            " hNormalization)                                                 \n",
            "                                                                 \n",
            " activation_5 (Activation)   (None, 4, 4, 512)         0         \n",
            "                                                                 \n",
            " flatten (Flatten)           (None, 8192)              0         \n",
            "                                                                 \n",
            " dense (Dense)               (None, 1024)              8389632   \n",
            "                                                                 \n",
            " batch_normalization_6 (Batc  (None, 1024)             4096      \n",
            " hNormalization)                                                 \n",
            "                                                                 \n",
            " activation_6 (Activation)   (None, 1024)              0         \n",
            "                                                                 \n",
            " dense_1 (Dense)             (None, 1024)              1049600   \n",
            "                                                                 \n",
            " batch_normalization_7 (Batc  (None, 1024)             4096      \n",
            " hNormalization)                                                 \n",
            "                                                                 \n",
            " activation_7 (Activation)   (None, 1024)              0         \n",
            "                                                                 \n",
            " dense_2 (Dense)             (None, 10)                10250     \n",
            "                                                                 \n",
            " batch_normalization_8 (Batc  (None, 10)               40        \n",
            " hNormalization)                                                 \n",
            "                                                                 \n",
            " activation_8 (Activation)   (None, 10)                0         \n",
            "                                                                 \n",
            "=================================================================\n",
            "Total params: 14,038,962\n",
            "Trainable params: 14,031,262\n",
            "Non-trainable params: 7,700\n",
            "_________________________________________________________________\n"
          ]
        }
      ]
    },
    {
      "cell_type": "code",
      "source": [
        "VGG_like.compile(optimizer = 'Adam', loss='sparse_categorical_crossentropy', metrics=['accuracy'])"
      ],
      "metadata": {
        "id": "Pd7i0yzYW_99"
      },
      "execution_count": null,
      "outputs": []
    },
    {
      "cell_type": "code",
      "source": [
        "history = VGG_like.fit(X_train_gray_norm, y_train, epochs=30, batch_size=200, verbose=1)"
      ],
      "metadata": {
        "colab": {
          "base_uri": "https://localhost:8080/"
        },
        "id": "TRuVDLToXBHX",
        "outputId": "f58c0cf8-c7dd-4264-d7d5-2b15cd5a1114"
      },
      "execution_count": null,
      "outputs": [
        {
          "output_type": "stream",
          "name": "stdout",
          "text": [
            "Epoch 1/30\n",
            "250/250 [==============================] - 34s 111ms/step - loss: 1.1891 - accuracy: 0.6131\n",
            "Epoch 2/30\n",
            "250/250 [==============================] - 28s 112ms/step - loss: 0.7112 - accuracy: 0.7865\n",
            "Epoch 3/30\n",
            "250/250 [==============================] - 27s 109ms/step - loss: 0.4788 - accuracy: 0.8648\n",
            "Epoch 4/30\n",
            "250/250 [==============================] - 27s 109ms/step - loss: 0.2988 - accuracy: 0.9242\n",
            "Epoch 5/30\n",
            "250/250 [==============================] - 28s 110ms/step - loss: 0.1704 - accuracy: 0.9641\n",
            "Epoch 6/30\n",
            "250/250 [==============================] - 27s 110ms/step - loss: 0.1027 - accuracy: 0.9807\n",
            "Epoch 7/30\n",
            "250/250 [==============================] - 27s 109ms/step - loss: 0.0752 - accuracy: 0.9864\n",
            "Epoch 8/30\n",
            "250/250 [==============================] - 27s 110ms/step - loss: 0.0701 - accuracy: 0.9861\n",
            "Epoch 9/30\n",
            "250/250 [==============================] - 27s 110ms/step - loss: 0.0696 - accuracy: 0.9844\n",
            "Epoch 10/30\n",
            "250/250 [==============================] - 27s 110ms/step - loss: 0.0513 - accuracy: 0.9890\n",
            "Epoch 11/30\n",
            "250/250 [==============================] - 28s 110ms/step - loss: 0.0494 - accuracy: 0.9887\n",
            "Epoch 12/30\n",
            "250/250 [==============================] - 28s 110ms/step - loss: 0.0361 - accuracy: 0.9930\n",
            "Epoch 13/30\n",
            "250/250 [==============================] - 27s 110ms/step - loss: 0.0347 - accuracy: 0.9928\n",
            "Epoch 14/30\n",
            "250/250 [==============================] - 28s 110ms/step - loss: 0.0360 - accuracy: 0.9916\n",
            "Epoch 15/30\n",
            "250/250 [==============================] - 27s 110ms/step - loss: 0.0343 - accuracy: 0.9919\n",
            "Epoch 16/30\n",
            "250/250 [==============================] - 28s 110ms/step - loss: 0.0335 - accuracy: 0.9917\n",
            "Epoch 17/30\n",
            "250/250 [==============================] - 28s 110ms/step - loss: 0.0312 - accuracy: 0.9917\n",
            "Epoch 18/30\n",
            "250/250 [==============================] - 28s 110ms/step - loss: 0.0257 - accuracy: 0.9934\n",
            "Epoch 19/30\n",
            "250/250 [==============================] - 27s 110ms/step - loss: 0.0250 - accuracy: 0.9935\n",
            "Epoch 20/30\n",
            "250/250 [==============================] - 27s 110ms/step - loss: 0.0231 - accuracy: 0.9942\n",
            "Epoch 21/30\n",
            "250/250 [==============================] - 27s 110ms/step - loss: 0.0140 - accuracy: 0.9970\n",
            "Epoch 22/30\n",
            "250/250 [==============================] - 27s 110ms/step - loss: 0.0128 - accuracy: 0.9975\n",
            "Epoch 23/30\n",
            "250/250 [==============================] - 28s 110ms/step - loss: 0.0281 - accuracy: 0.9921\n",
            "Epoch 24/30\n",
            "250/250 [==============================] - 28s 110ms/step - loss: 0.0301 - accuracy: 0.9909\n",
            "Epoch 25/30\n",
            "250/250 [==============================] - 28s 110ms/step - loss: 0.0183 - accuracy: 0.9950\n",
            "Epoch 26/30\n",
            "250/250 [==============================] - 27s 110ms/step - loss: 0.0152 - accuracy: 0.9959\n",
            "Epoch 27/30\n",
            "250/250 [==============================] - 27s 110ms/step - loss: 0.0145 - accuracy: 0.9961\n",
            "Epoch 28/30\n",
            "250/250 [==============================] - 27s 110ms/step - loss: 0.0212 - accuracy: 0.9936\n",
            "Epoch 29/30\n",
            "250/250 [==============================] - 27s 110ms/step - loss: 0.0193 - accuracy: 0.9944\n",
            "Epoch 30/30\n",
            "250/250 [==============================] - 27s 110ms/step - loss: 0.0087 - accuracy: 0.9979\n"
          ]
        }
      ]
    },
    {
      "cell_type": "code",
      "source": [
        "score = VGG_like.evaluate(X_test_gray_norm, y_test)"
      ],
      "metadata": {
        "colab": {
          "base_uri": "https://localhost:8080/"
        },
        "id": "IisRxgegXEgL",
        "outputId": "b90b72ed-695b-479e-a878-7c4bb06719e4"
      },
      "execution_count": null,
      "outputs": [
        {
          "output_type": "stream",
          "name": "stdout",
          "text": [
            "313/313 [==============================] - 3s 9ms/step - loss: 0.7301 - accuracy: 0.8356\n"
          ]
        }
      ]
    },
    {
      "cell_type": "code",
      "source": [
        "accuracy = history.history['accuracy']\n",
        "epochs = range(len(accuracy)) # we coudl have given the values directly as we alread know the the number of epochs while training the model\n",
        "epochs\n",
        "loss = history.history['loss']\n",
        "plt.plot(epochs, accuracy, 'b', label = 'Training Accuracy')\n",
        "plt.plot(epochs, loss, 'g', label = 'Training Loss')\n",
        "plt.xlabel('Epochs')\n",
        "plt.ylabel('Accuracy and Loss')\n",
        "plt.title('Training Accuracy and Training Loss')\n",
        "plt.legend()\n",
        "plt.show()"
      ],
      "metadata": {
        "colab": {
          "base_uri": "https://localhost:8080/",
          "height": 295
        },
        "id": "UKmoIHAaXF7H",
        "outputId": "a8819ecd-4ea6-4d53-8d5a-96960c13544b"
      },
      "execution_count": null,
      "outputs": [
        {
          "output_type": "display_data",
          "data": {
            "text/plain": [
              "<Figure size 432x288 with 1 Axes>"
            ],
            "image/png": "[encoded data removed]"
          },
          "metadata": {
            "needs_background": "light"
          }
        }
      ]
    },
    {
      "cell_type": "code",
      "source": [
        "from google.colab import drive\n",
        "drive.mount('/content/gdrive')"
      ],
      "metadata": {
        "colab": {
          "base_uri": "https://localhost:8080/"
        },
        "id": "rjhh31-8ckDD",
        "outputId": "d74084c2-55ae-4e65-9ebe-74184b9caa86"
      },
      "execution_count": null,
      "outputs": [
        {
          "output_type": "stream",
          "name": "stdout",
          "text": [
            "Mounted at /content/gdrive\n"
          ]
        }
      ]
    },
    {
      "cell_type": "code",
      "source": [
        "#VGG_like.save('./gdrive/MyDrive/VGG_like')\n",
        "VGG_like = models.load_model('./gdrive/MyDrive/VGG_like')"
      ],
      "metadata": {
        "id": "_3R9f4gdcep1"
      },
      "execution_count": null,
      "outputs": []
    },
    {
      "cell_type": "code",
      "source": [
        "np.set_printoptions(precision=32, suppress=True, threshold=np.inf, linewidth=np.inf)\n",
        "pd.options.display.float_format = '{:.12f}'.format"
      ],
      "metadata": {
        "id": "aqQH_DKIc0iJ"
      },
      "execution_count": null,
      "outputs": []
    },
    {
      "cell_type": "code",
      "source": [
        "weights = VGG_like.get_weights()"
      ],
      "metadata": {
        "id": "4gU8UyuRc-3J"
      },
      "execution_count": null,
      "outputs": []
    },
    {
      "cell_type": "code",
      "source": [
        "# L W H C-IN C-OUT\n",
        "for i in range(0, len(weights)):\n",
        "  sys.stdout = open('./gdrive/MyDrive/VGG_like_weights/stdout' + str(i) + '.txt', 'w')\n",
        "  for j in range(0, len(weights[i])):\n",
        "    # conv2d\n",
        "    if(i == 0 or i == 6 or i == 12 or i == 18 or i == 24 or i == 30):\n",
        "      for k in range(0, len(weights[i][j])):\n",
        "        for z in range(0,len(weights[i][j][k])):\n",
        "          for x in range(0,len(weights[i][j][k][z])):\n",
        "            print(str(weights[i][j][k][z][x]))\n",
        "    # fc\n",
        "    elif(i == 36 or i == 42 or i == 48):\n",
        "      for k in range(0,len(weights[i][j])):\n",
        "        print(weights[i][j][k])\n",
        "    else:\n",
        "      print(weights[i][j])"
      ],
      "metadata": {
        "id": "HHZmrZoKfzBf"
      },
      "execution_count": null,
      "outputs": []
    },
    {
      "cell_type": "code",
      "source": [
        "print(len(weights))\n",
        "print(len(weights[6]))          # width 또는 height\n",
        "print(len(weights[6][0]))       # width 또는 height\n",
        "print(len(weights[6][0][0]))    # C_in\n",
        "print(len(weights[6][0][0][0])) # C_out"
      ],
      "metadata": {
        "colab": {
          "base_uri": "https://localhost:8080/"
        },
        "id": "Futt4YbykoQb",
        "outputId": "54b7ba11-52e5-40d7-efb6-5f6c4113eadf"
      },
      "execution_count": null,
      "outputs": [
        {
          "output_type": "stream",
          "name": "stdout",
          "text": [
            "54\n",
            "3\n",
            "3\n",
            "128\n",
            "128\n"
          ]
        }
      ]
    }
  ]
}